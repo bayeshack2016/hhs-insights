{
 "cells": [
  {
   "cell_type": "code",
   "execution_count": 107,
   "metadata": {
    "collapsed": true
   },
   "outputs": [],
   "source": [
    "from ipyleaflet import (\n",
    "    Map,\n",
    "    Polyline, Polygon, Rectangle, Circle, CircleMarker,\n",
    "    GeoJSON\n",
    ")\n",
    "\n",
    "from ipywidgets import IntSlider, jslink"
   ]
  },
  {
   "cell_type": "code",
   "execution_count": 108,
   "metadata": {
    "collapsed": false
   },
   "outputs": [],
   "source": [
    "import matplotlib as mpl\n",
    "import matplotlib.cm\n",
    "import matplotlib.colors\n",
    "import numpy as np\n",
    "from math import floor"
   ]
  },
  {
   "cell_type": "code",
   "execution_count": 109,
   "metadata": {
    "collapsed": true
   },
   "outputs": [],
   "source": [
    "import json\n",
    "import os"
   ]
  },
  {
   "cell_type": "code",
   "execution_count": 110,
   "metadata": {
    "collapsed": false
   },
   "outputs": [],
   "source": [
    "with open('providers-by-zip.json') as f:\n",
    "    data = json.load(f)\n",
    "\n",
    "max_providers = data['result']['max_num_providers']\n",
    "n_todraw = len(data['result']['zip_codes'])"
   ]
  },
  {
   "cell_type": "code",
   "execution_count": 111,
   "metadata": {
    "collapsed": false
   },
   "outputs": [],
   "source": [
    "center = [37.8, -96.9]\n",
    "zoom = 4\n",
    "\n",
    "m = Map(center=center, zoom=zoom)\n",
    "\n",
    "n_colors = 10"
   ]
  },
  {
   "cell_type": "code",
   "execution_count": 122,
   "metadata": {
    "collapsed": true
   },
   "outputs": [],
   "source": [
    "def make_colors(colormap=mpl.cm.Blues):\n",
    "    data = np.linspace(0.0,1.0,n_colors)\n",
    "    c = [mpl.colors.rgb2hex(d[0:3]) for d in colormap(data)]\n",
    "    return c"
   ]
  },
  {
   "cell_type": "code",
   "execution_count": 123,
   "metadata": {
    "collapsed": false
   },
   "outputs": [],
   "source": [
    "colors = make_colors()"
   ]
  },
  {
   "cell_type": "code",
   "execution_count": 124,
   "metadata": {
    "collapsed": false
   },
   "outputs": [],
   "source": [
    "to_plot = {}\n",
    "\n",
    "for r in data['result']['zip_codes']:\n",
    "    num_providers = r['num_providers']\n",
    "    color = colors[int(floor(n_colors * (float(num_providers) / max_providers))) - 1]\n",
    "    \n",
    "    r['properties'] = {'style': {'color':color, 'weight': 1, 'fillColor':color, 'fillOpacity':0.5}, 'num_providers': num_providers}\n",
    "    \n",
    "    to_plot[r[\"zip_code\"]] = r"
   ]
  },
  {
   "cell_type": "code",
   "execution_count": null,
   "metadata": {
    "collapsed": false
   },
   "outputs": [],
   "source": []
  },
  {
   "cell_type": "code",
   "execution_count": 125,
   "metadata": {
    "collapsed": false
   },
   "outputs": [],
   "source": [
    "plot_list = []"
   ]
  },
  {
   "cell_type": "code",
   "execution_count": 126,
   "metadata": {
    "collapsed": false
   },
   "outputs": [],
   "source": [
    "for f in os.listdir(\"./json-zips/zip_codes_for_the_usa\"):\n",
    "    with open(os.path.join(\"./json-zips/zip_codes_for_the_usa\", f)) as fdata:\n",
    "        area = json.load(fdata)\n",
    "        map_out(area)"
   ]
  },
  {
   "cell_type": "code",
   "execution_count": 127,
   "metadata": {
    "collapsed": false
   },
   "outputs": [],
   "source": [
    "def map_out(area):\n",
    "    for feature in area['features']:\n",
    "        zip_code = zip_fix(feature['properties']['ZIP'])\n",
    "        try:\n",
    "            draw_data(zip_code, feature)\n",
    "        except:\n",
    "            pass"
   ]
  },
  {
   "cell_type": "code",
   "execution_count": 128,
   "metadata": {
    "collapsed": true
   },
   "outputs": [],
   "source": [
    "def zip_fix(zip_code):\n",
    "    zip_code = str(zip_code)\n",
    "    while len(zip_code) < 5:\n",
    "        zip_code = \"0\" + zip_code\n",
    "    return zip_code"
   ]
  },
  {
   "cell_type": "code",
   "execution_count": 129,
   "metadata": {
    "collapsed": true
   },
   "outputs": [],
   "source": [
    "def draw_data(zip_code, feature):\n",
    "    for k, v in to_plot[zip_code]['properties'].iteritems():\n",
    "        feature['properties'][k] = v\n",
    "    plot_list.append(feature)"
   ]
  },
  {
   "cell_type": "code",
   "execution_count": 130,
   "metadata": {
    "collapsed": false
   },
   "outputs": [],
   "source": [
    "data['features'] = plot_list"
   ]
  },
  {
   "cell_type": "code",
   "execution_count": 131,
   "metadata": {
    "collapsed": false
   },
   "outputs": [],
   "source": [
    "g = GeoJSON(data=data)\n",
    "m.add_layer(g)"
   ]
  },
  {
   "cell_type": "code",
   "execution_count": 132,
   "metadata": {
    "collapsed": false
   },
   "outputs": [],
   "source": [
    "m"
   ]
  },
  {
   "cell_type": "code",
   "execution_count": 106,
   "metadata": {
    "collapsed": false
   },
   "outputs": [],
   "source": [
    "zoom_slider = IntSlider(description='Zoom', min=2, max=15, value=zoom)\n",
    "jslink((zoom_slider, 'value'), (m, 'zoom'))\n",
    "zoom_slider"
   ]
  }
 ],
 "metadata": {
  "kernelspec": {
   "display_name": "Python 2",
   "language": "python",
   "name": "python2"
  },
  "language_info": {
   "codemirror_mode": {
    "name": "ipython",
    "version": 2
   },
   "file_extension": ".py",
   "mimetype": "text/x-python",
   "name": "python",
   "nbconvert_exporter": "python",
   "pygments_lexer": "ipython2",
   "version": "2.7.11"
  },
  "widgets": {
   "state": {},
   "version": "1.0.0"
  }
 },
 "nbformat": 4,
 "nbformat_minor": 0
}
